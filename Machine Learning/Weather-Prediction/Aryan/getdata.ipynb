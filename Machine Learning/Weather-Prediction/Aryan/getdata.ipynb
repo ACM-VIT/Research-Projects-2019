{
 "cells": [
  {
   "cell_type": "code",
   "execution_count": 1,
   "metadata": {},
   "outputs": [
    {
     "name": "stdout",
     "output_type": "stream",
     "text": [
      "2020\n"
     ]
    }
   ],
   "source": [
    "import datetime          \n",
    "current_time_exact= datetime.datetime.now() ##To get the current time.\n",
    "current_time=current_time_exact.strftime(\"%Y-%m-%d %H:%M:%S\")\n",
    "current_year=int(current_time_exact.strftime(\"%Y\")) \n",
    "print(current_year)\n"
   ]
  },
  {
   "cell_type": "code",
   "execution_count": 2,
   "metadata": {},
   "outputs": [
    {
     "name": "stdout",
     "output_type": "stream",
     "text": [
      "1588080181\n"
     ]
    }
   ],
   "source": [
    "import calendar,time\n",
    "current_epoch_time=calendar.timegm(time.strptime(current_time, '%Y-%m-%d %H:%M:%S')) #Converting current time to epoch format\n",
    "print(current_epoch_time)\n",
    "tmrw_epoch_time=current_epoch_time+86400 #A day consists of 86400 secs"
   ]
  },
  {
   "cell_type": "code",
   "execution_count": 3,
   "metadata": {},
   "outputs": [
    {
     "name": "stdout",
     "output_type": "stream",
     "text": [
      "1209475381\n",
      "1241097781\n",
      "1272633781\n",
      "1304169781\n",
      "1335705781\n",
      "1367328181\n",
      "1398864181\n",
      "1430400181\n",
      "1461936181\n",
      "1493558581\n",
      "1525094581\n",
      "1556630581\n",
      "1588166581\n"
     ]
    }
   ],
   "source": [
    "epoch_time_list=[tmrw_epoch_time] #creating a list to store all the time stamps in the past year for tommorrow's date\n",
    "epoch_time=tmrw_epoch_time \n",
    "#Note:I am going from current year to 2007 as the data is available for these years only for the given DarkSky api used.\n",
    "##Note: Due to leap years different secs added accordingly\n",
    "for year in range(current_year-1,2007,-1):\n",
    "    if (( year%400 == 0)or (( year%4 == 0 ) and ( year%100 != 0))):\n",
    "        epoch_time=epoch_time-31622400\n",
    "        epoch_time_list.append(epoch_time)\n",
    "    else:\n",
    "        epoch_time=epoch_time-31536000\n",
    "        epoch_time_list.append(epoch_time)\n",
    "#Just to make it simple Reversing the list \n",
    "epoch_time_list.reverse()\n",
    "for i in epoch_time_list:\n",
    "        print(i)"
   ]
  },
  {
   "cell_type": "code",
   "execution_count": 4,
   "metadata": {},
   "outputs": [],
   "source": [
    "import requests\n",
    "import pandas as pd\n",
    "from collections import namedtuple\n",
    "df1 = []\n",
    "features = ['temperatureMin','temperatureMax']\n",
    "DailySummary = namedtuple(\"DailySummary\", features)"
   ]
  },
  {
   "cell_type": "code",
   "execution_count": 5,
   "metadata": {},
   "outputs": [],
   "source": [
    "##Note: Year 2011 has no proper data so those timestamps are been ignored using the if condition\n",
    "latitude=26.8371648\n",
    "longitude=75.5625925\n",
    "everything_is_fine=1\n",
    "#Replace the KEY with the api key once signed up on Darksky\n",
    "try:\n",
    "    for time in epoch_time_list:\n",
    "        if time<1293840000 or time>=1325376000:\n",
    "            BASE_URL = \"https://api.darksky.net/forecast/KEY/\"+str(latitude)+\",\"+str(longitude)+\",\"+str(time)+ \"?exclude=currently,flags,alerts,hourly\"            \n",
    "            response = requests.get(BASE_URL)# Making the request using get()\n",
    "            data = response.json() #storing thant response in data in json format\n",
    "            df = pd.DataFrame(data[\"daily\"][\"data\"]) #Keeping only the 'daily' data as others are not required \n",
    "            df1.append(DailySummary(temperatureMin = df.at[0, 'temperatureMin'],temperatureMax = df.at[0, 'temperatureMax']))\n",
    "except:\n",
    "    everything_is_fine=0 #in this case the data is corrupt somewhere and prediction is not possible"
   ]
  },
  {
   "cell_type": "code",
   "execution_count": 6,
   "metadata": {},
   "outputs": [
    {
     "name": "stdout",
     "output_type": "stream",
     "text": [
      "    temperatureMin  temperatureMax\n",
      "0            78.45          110.58\n",
      "1            87.51          110.11\n",
      "2            80.22          103.20\n",
      "3            73.02          101.02\n",
      "4            83.85          101.16\n",
      "5            83.85          108.48\n",
      "6            80.08          110.10\n",
      "7            78.34          104.72\n",
      "8            81.71          102.82\n",
      "9            83.85          111.90\n",
      "10           77.15          106.93\n",
      "11           75.40          102.79\n"
     ]
    }
   ],
   "source": [
    "if everything_is_fine==1:\n",
    "    res = pd.DataFrame(df1, columns=features) #Converting the list to Dataframe\n",
    "    res.to_csv('data.csv', index=False)#Optional but used here to make things understandable"
   ]
  }
 ],
 "metadata": {
  "kernelspec": {
   "display_name": "Python 3",
   "language": "python",
   "name": "python3"
  },
  "language_info": {
   "codemirror_mode": {
    "name": "ipython",
    "version": 3
   },
   "file_extension": ".py",
   "mimetype": "text/x-python",
   "name": "python",
   "nbconvert_exporter": "python",
   "pygments_lexer": "ipython3",
   "version": "3.7.4"
  }
 },
 "nbformat": 4,
 "nbformat_minor": 4
}
